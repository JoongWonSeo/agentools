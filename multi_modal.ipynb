{
 "cells": [
  {
   "cell_type": "markdown",
   "metadata": {},
   "source": [
    "# Multi Modal Input\n"
   ]
  },
  {
   "cell_type": "code",
   "execution_count": 2,
   "metadata": {},
   "outputs": [
    {
     "data": {
      "text/plain": [
       "'The image shows a plate filled with pancakes that are shaped like smiling emoji faces. The pancakes vary in shades, with some appearing more golden brown and others lighter. The playful design of the pancakes gives a cheerful presentation.'"
      ]
     },
     "execution_count": 2,
     "metadata": {},
     "output_type": "execute_result"
    }
   ],
   "source": [
    "from agentools import ChatGPT, format_contents, content\n",
    "\n",
    "gpt = ChatGPT(model=\"gpt-4o-mini\")\n",
    "\n",
    "PROMPT = \"\"\"\n",
    "Hello! Please look at the following and summarize it for me:\n",
    "{image}\n",
    "\"\"\".strip()\n",
    "\n",
    "s = await gpt(\n",
    "    format_contents(\n",
    "        PROMPT, image=[content(image_url=\"https://i.imgur.com/XDgw97C.jpeg\")]\n",
    "    )\n",
    ")\n",
    "s"
   ]
  },
  {
   "cell_type": "code",
   "execution_count": 3,
   "metadata": {},
   "outputs": [
    {
     "data": {
      "text/plain": [
       "[{'type': 'text',\n",
       "  'text': 'Hello! Please look at the following and summarize it for me:\\n'},\n",
       " {'type': 'image_url',\n",
       "  'image_url': {'url': 'https://i.imgur.com/XDgw97C.jpeg'}}]"
      ]
     },
     "execution_count": 3,
     "metadata": {},
     "output_type": "execute_result"
    }
   ],
   "source": [
    "format_contents(PROMPT, image=[content(image_url=\"https://i.imgur.com/XDgw97C.jpeg\")])"
   ]
  }
 ],
 "metadata": {
  "kernelspec": {
   "display_name": "agentools-Ziq7AQeI-py3.12",
   "language": "python",
   "name": "python3"
  },
  "language_info": {
   "codemirror_mode": {
    "name": "ipython",
    "version": 3
   },
   "file_extension": ".py",
   "mimetype": "text/x-python",
   "name": "python",
   "nbconvert_exporter": "python",
   "pygments_lexer": "ipython3",
   "version": "3.12.7"
  }
 },
 "nbformat": 4,
 "nbformat_minor": 2
}
